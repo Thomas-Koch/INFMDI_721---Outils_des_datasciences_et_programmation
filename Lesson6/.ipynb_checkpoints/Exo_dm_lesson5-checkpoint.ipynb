{
 "cells": [
  {
   "cell_type": "markdown",
   "metadata": {},
   "source": [
    "# Enoncé\n",
    "\n",
    "Peut-on établir un lien entre la densité de médecins par spécialité et par territoire et la pratique du dépassement d'honoraires ? Est-ce dans les territoires où la densité est la plus forte que les médecins pratiquent le moins les dépassements d'honoraires ? Est-ce que la densité de certains médecins / praticiens est corrélée à la densité de population pour certaines classes d'âges (bébé/pédiatre, personnes âgées / infirmiers etc...) ?\n",
    "\n",
    "C'est un sujet issu du Hackathon [\"données de santé\"](https://www.etalab.gouv.fr/retour-sur-le-premier-hackathon-donnees-de-sante) de Etalab (la page contient des liens vers différents jeux de données utiles, ainsi que d'autres exemples de questions que vous pouvez préférer aborder). Vous pouvez compléter ça avec des données de l'INSEE et des données sur la [démographie des médecins](http://www.data.drees.sante.gouv.fr/ReportFolders/reportFolders.aspx?IF_ActivePath=P,490,497,514).\n",
    "\n",
    "Vous pourrez trouver un jeu de données listant le taux moyen (je pense) de dépassements d'honoraires par spécialité des médecins et par département sur le lien suivant.\n",
    "https://www.ameli.fr/l-assurance-maladie/statistiques-et-publications/donnees-statistiques/professionnels-de-sante-liberaux/honoraires/honoraires-totaux-et-moyens.php\n",
    "\n",
    "\n",
    "Un nouveau dataset pour l'exercice kit datascience sur l'estimation de la population en France. Il y a des informations sur les tranches d'âge\n",
    "https://www.insee.fr/fr/statistiques/1893198"
   ]
  }
 ],
 "metadata": {
  "kernelspec": {
   "display_name": "Python 3",
   "language": "python",
   "name": "python3"
  },
  "language_info": {
   "codemirror_mode": {
    "name": "ipython",
    "version": 3
   },
   "file_extension": ".py",
   "mimetype": "text/x-python",
   "name": "python",
   "nbconvert_exporter": "python",
   "pygments_lexer": "ipython3",
   "version": "3.7.4"
  }
 },
 "nbformat": 4,
 "nbformat_minor": 4
}
