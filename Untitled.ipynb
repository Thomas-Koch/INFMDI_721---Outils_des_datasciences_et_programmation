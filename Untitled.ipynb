{
 "cells": [
  {
   "cell_type": "code",
   "execution_count": 5,
   "metadata": {},
   "outputs": [
    {
     "name": "stdout",
     "output_type": "stream",
     "text": [
      "5\n",
      "hello\n",
      "5hello\n",
      "hellohellohellohellohello\n"
     ]
    }
   ],
   "source": [
    "n=5\n",
    "s='hello'\n",
    "print(n)\n",
    "print(s)\n",
    "print(str(n)+str(s))\n",
    "print(n*s)"
   ]
  },
  {
   "cell_type": "code",
   "execution_count": 35,
   "metadata": {},
   "outputs": [
    {
     "name": "stdout",
     "output_type": "stream",
     "text": [
      "True\n"
     ]
    }
   ],
   "source": [
    "year = 2018\n",
    "def is_leap_year(year):\n",
    "    rest4 = year%4\n",
    "    rest100 = year%100\n",
    "    #rest400 = year%400\n",
    "    if rest4!=0 and rest100!=0: # ou bien if (year%400) = 0\n",
    "        return True\n",
    "    else:\n",
    "        return False\n",
    "print(is_leap_year(year))"
   ]
  },
  {
   "cell_type": "code",
   "execution_count": 24,
   "metadata": {},
   "outputs": [
    {
     "name": "stdout",
     "output_type": "stream",
     "text": [
      "True\n"
     ]
    }
   ],
   "source": [
    "nums=[1,2,9,4,5,9]\n",
    "def array_front9(nums):\n",
    "    return 9 in nums[:4]\n",
    "print(array_front9(nums))"
   ]
  },
  {
   "cell_type": "code",
   "execution_count": 26,
   "metadata": {},
   "outputs": [
    {
     "name": "stdout",
     "output_type": "stream",
     "text": [
      "[1.0, 1.4142135623730951, 3.0, 2.0, 2.23606797749979, 3.0]\n"
     ]
    }
   ],
   "source": [
    "import math\n",
    "nums=[1,2,9,4,5,9]\n",
    "def list_sqrt(nums):\n",
    "    return [math.sqrt(x) for x in nums]\n",
    "print(list_sqrt(nums))"
   ]
  },
  {
   "cell_type": "code",
   "execution_count": 39,
   "metadata": {},
   "outputs": [
    {
     "name": "stderr",
     "output_type": "stream",
     "text": [
      "test_01_string_times (__main__.Lesson1Tests) ... ok\n",
      "test_02_is_leap_year (__main__.Lesson1Tests) ... FAIL\n",
      "test_03_array_front9 (__main__.Lesson1Tests) ... ok\n",
      "test_04_list_sqrt (__main__.Lesson1Tests) ... ok\n",
      "test_05_occurences (__main__.Lesson1Tests) ... ok\n",
      "test_06_length_words (__main__.Lesson1Tests) ... ERROR\n",
      "test_07_number_to_digits (__main__.Lesson1Tests) ... FAIL\n",
      "test_08_pig_latin (__main__.Lesson1Tests) ... ERROR\n",
      "test_09_extract_data (__main__.Lesson1Tests) ... ERROR\n",
      "\n",
      "======================================================================\n",
      "ERROR: test_06_length_words (__main__.Lesson1Tests)\n",
      "----------------------------------------------------------------------\n",
      "Traceback (most recent call last):\n",
      "  File \"<ipython-input-39-be80649dd848>\", line 170, in test_06_length_words\n",
      "    self.assertEqual(length_words(['hello', 'world']), [5, 5])\n",
      "  File \"<ipython-input-39-be80649dd848>\", line 55, in length_words\n",
      "    return (int(i) for i in text)\n",
      "NameError: name 'text' is not defined\n",
      "\n",
      "======================================================================\n",
      "ERROR: test_08_pig_latin (__main__.Lesson1Tests)\n",
      "----------------------------------------------------------------------\n",
      "Traceback (most recent call last):\n",
      "  File \"<ipython-input-39-be80649dd848>\", line 177, in test_08_pig_latin\n",
      "    self.assertEqual(pig_latin(\"Hello\"), \"Ellohay\")\n",
      "  File \"<ipython-input-39-be80649dd848>\", line 71, in pig_latin\n",
      "    result.append[word[1:]+word[0]+'ay']\n",
      "TypeError: 'builtin_function_or_method' object is not subscriptable\n",
      "\n",
      "======================================================================\n",
      "ERROR: test_09_extract_data (__main__.Lesson1Tests)\n",
      "----------------------------------------------------------------------\n",
      "Traceback (most recent call last):\n",
      "  File \"<ipython-input-39-be80649dd848>\", line 186, in test_09_extract_data\n",
      "    result[0],\n",
      "TypeError: 'NoneType' object is not subscriptable\n",
      "\n",
      "======================================================================\n",
      "FAIL: test_02_is_leap_year (__main__.Lesson1Tests)\n",
      "----------------------------------------------------------------------\n",
      "Traceback (most recent call last):\n",
      "  File \"<ipython-input-39-be80649dd848>\", line 147, in test_02_is_leap_year\n",
      "    self.assertTrue(is_leap_year(2020))\n",
      "AssertionError: False is not true\n",
      "\n",
      "======================================================================\n",
      "FAIL: test_07_number_to_digits (__main__.Lesson1Tests)\n",
      "----------------------------------------------------------------------\n",
      "Traceback (most recent call last):\n",
      "  File \"<ipython-input-39-be80649dd848>\", line 174, in test_07_number_to_digits\n",
      "    self.assertEqual(number_to_digits(2019), [2, 0, 1, 9])\n",
      "AssertionError: None != [2, 0, 1, 9]\n",
      "\n",
      "----------------------------------------------------------------------\n",
      "Ran 9 tests in 0.020s\n",
      "\n",
      "FAILED (failures=2, errors=3)\n"
     ]
    }
   ],
   "source": [
    "import math\n",
    "import unittest\n",
    "\n",
    "\n",
    "# Given a string and a non-negative int n, return a larger string\n",
    "# that is n copies of the original string.\n",
    "# Example: string_times(\"hey\", 3) should return \"heyheyhey\"\n",
    "def string_times(string, n):\n",
    "    return string*n\n",
    "\n",
    "\n",
    "# Write a function which returns True if a year is a leap year.\n",
    "# A year is leap year if:\n",
    "# - it is divisible by 4 AND indivisible by 100\n",
    "# or if:\n",
    "# - it is divisible by 400\n",
    "def is_leap_year(year):\n",
    "    rest4 = year%4\n",
    "    rest100 = year%100\n",
    "    #rest400 = year%400\n",
    "    if rest4==0 and rest100!=0: # ou bien if (year%400) = 0\n",
    "        return True\n",
    "    else:\n",
    "        return False\n",
    "\n",
    "\n",
    "# Given a list of ints, return True if one of the first 4 elements\n",
    "# in the array is a 9. The list length may be less than 4.\n",
    "def array_front9(nums):\n",
    "    return 9 in nums[:4]\n",
    "\n",
    "\n",
    "# Given a list of ints, return the list of their square root.\n",
    "def list_sqrt(nums):\n",
    "    return [math.sqrt(x) for x in nums]\n",
    "\n",
    "\n",
    "# Write a function which return a dict containing the number of time each letter\n",
    "# is present in the given text.\n",
    "def occurences(text):\n",
    "    dic = {}\n",
    "    for letter in text:\n",
    "        if letter in dic:\n",
    "            dic[letter] +=1\n",
    "        else:\n",
    "            dic[letter]= 1 \n",
    "    return dic\n",
    "\n",
    "\n",
    "\n",
    "# Write a function that maps a list of words into a list of\n",
    "# integers representing the lengths of the corresponding words.\n",
    "def length_words(words):\n",
    "# A COMPLETER\n",
    "    return (int(i) for i in text)\n",
    "\n",
    "\n",
    "# Write a function that takes a number and returns a list of its digits.\n",
    "def number_to_digits(number):\n",
    "                    # A COMPLETER\n",
    "    return\n",
    "\n",
    "\n",
    "# Write a function that translates a text from english to Pig Latin.\n",
    "# English is translated to Pig Latin by taking the first letter of every word,\n",
    "# moving it to the end of the word, and adding 'ay'.\n",
    "def pig_latin(text: str):\n",
    "    words = text.split()\n",
    "    result = []\n",
    "    for word in words:\n",
    "        result.append[word[1:]+word[0]+'ay']\n",
    "    return (' '.join(result), capitalize)\n",
    "                        #A COMPLETER\n",
    "\n",
    "# Write a function which prints numbers from 1 to 100,\n",
    "# but which prints \"Fizz\" instead of multiple of 3,\n",
    "# \"Buzz\" instead of multiple of 5,\n",
    "# and \"FizzBuzz\" instead of multiple of 15\n",
    "def fizzbuzz():\n",
    "    return\n",
    "\n",
    "\n",
    "weather_data = {\n",
    "    \"Paris\": {\n",
    "        \"weather_list\": [{\n",
    "            \"dt\": 1569434400,\n",
    "            \"main\": {\"temp\": 289.15, \"humidity\": 76},\n",
    "            \"dt_txt\": \"2019-09-25 18:00:00\"\n",
    "        }, {\n",
    "            \"dt\": 1569445200,\n",
    "            \"main\": {\n",
    "                \"temp\": 289.62,\n",
    "                \"humidity\": 87\n",
    "            },\n",
    "            \"dt_txt\": \"2019-09-25 21:00:00\"\n",
    "        }],\n",
    "        \"metadata\": {\n",
    "            \"coord\": {\"lat\": 48.8566, \"lon\": 2.3515},\n",
    "            \"country\": \"FR\",\n",
    "        }\n",
    "    },\n",
    "    \"London\": {\n",
    "        \"weather_list\": [{\n",
    "            \"dt\": 1569434400,\n",
    "            \"main\": {\"temp\": 289.52, \"humidity\": 77},\n",
    "            \"dt_txt\": \"2019-09-25 18:00:00\"\n",
    "        }, {\n",
    "            \"dt\": 1569445200,\n",
    "            \"main\": {\"temp\": 287.78, \"humidity\": 86},\n",
    "            \"dt_txt\": \"2019-09-25 21:00:00\"\n",
    "        }],\n",
    "        \"metadata\": {\n",
    "            \"coord\": {\"lat\": 51.5073, \"lon\": -0.1277},\n",
    "            \"country\": \"GB\",\n",
    "        }\n",
    "    }\n",
    "}\n",
    "\n",
    "\n",
    "# Given the above data, write a function which return a list of dict,\n",
    "# where each dict contains these fields:\n",
    "# - name (str): the city name\n",
    "# - country (str): the city country\n",
    "# - date (str): the date\n",
    "# - temp (float): the temperature in °celsius (not °kelvin)\n",
    "def extract_data(data):\n",
    "    result = []\n",
    "    \n",
    "    return\n",
    "\n",
    "\n",
    "# End of exercices.\n",
    "\n",
    "\n",
    "########################################################################\n",
    "# Here's our \"unit tests\" (à quoi ça sert ? => https://huit.re/gMGd03vx)\n",
    "\n",
    "\n",
    "class Lesson1Tests(unittest.TestCase):\n",
    "    def test_01_string_times(self):\n",
    "        self.assertEqual(string_times('Plop', 2), 'PlopPlop')\n",
    "        self.assertEqual(string_times('Hey', 1), 'Hey')\n",
    "        self.assertEqual(string_times('=', 4), '====')\n",
    "\n",
    "    def test_02_is_leap_year(self):\n",
    "        self.assertTrue(is_leap_year(2000))\n",
    "        self.assertTrue(is_leap_year(2020))\n",
    "        self.assertFalse(is_leap_year(1899))\n",
    "        self.assertFalse(is_leap_year(1900))\n",
    "\n",
    "    def test_03_array_front9(self):\n",
    "        self.assertEqual(array_front9([1, 2, 9, 3, 4]), True)\n",
    "        self.assertEqual(array_front9([1, 2, 3, 4, 9]), False)\n",
    "        self.assertEqual(array_front9([1, 2, 3, 4, 5]), False)\n",
    "\n",
    "    def test_04_list_sqrt(self):\n",
    "        self.assertEqual(list_sqrt([]), [])\n",
    "        self.assertEqual(\n",
    "            list_sqrt([4, 9, 16, 81]),\n",
    "            [2.0, 3.0, 4.0, 9.0]\n",
    "        )\n",
    "\n",
    "    def test_05_occurences(self):\n",
    "        self.assertEqual(\n",
    "            occurences(\"hello world\"),\n",
    "            {'h': 1, 'e': 1, 'l': 3, 'o': 2, ' ': 1, 'w': 1, 'r': 1, 'd': 1}\n",
    "        )\n",
    "\n",
    "    def test_06_length_words(self):\n",
    "        self.assertEqual(length_words(['hello', 'world']), [5, 5])\n",
    "        self.assertEqual(length_words(['hey']), [3])\n",
    "\n",
    "    def test_07_number_to_digits(self):\n",
    "        self.assertEqual(number_to_digits(2019), [2, 0, 1, 9])\n",
    "\n",
    "    def test_08_pig_latin(self):\n",
    "        self.assertEqual(pig_latin(\"Hello\"), \"Ellohay\")\n",
    "        self.assertEqual(\n",
    "            pig_latin(\"The quick brown fox\"),\n",
    "            \"Hetay uickqay rownbay oxfay\"\n",
    "        )\n",
    "\n",
    "    def test_09_extract_data(self):\n",
    "        result = extract_data(weather_data)\n",
    "        self.assertEqual(\n",
    "            result[0],\n",
    "            {\n",
    "                'name': 'Paris',\n",
    "                'country': 'FR',\n",
    "                'date': \"2019-09-25 18:00:00\",\n",
    "                'temp': 16.0\n",
    "            }\n",
    "        )\n",
    "\n",
    "\n",
    "def run_tests():\n",
    "    test_suite = unittest.makeSuite(Lesson1Tests)\n",
    "    runner = unittest.TextTestRunner(verbosity=2)\n",
    "    runner.run(test_suite)\n",
    "\n",
    "\n",
    "if __name__ == '__main__':\n",
    "    run_tests()"
   ]
  },
  {
   "cell_type": "code",
   "execution_count": 40,
   "metadata": {},
   "outputs": [
    {
     "data": {
      "text/plain": [
       "'Hello World'"
      ]
     },
     "execution_count": 40,
     "metadata": {},
     "output_type": "execute_result"
    }
   ],
   "source": [
    "# Enlever des espaces avant et après une chaîne de caractère\n",
    "s = ' Hello World '\n",
    "s.strip()"
   ]
  },
  {
   "cell_type": "code",
   "execution_count": 41,
   "metadata": {},
   "outputs": [
    {
     "name": "stdout",
     "output_type": "stream",
     "text": [
      " Helli Wirld \n"
     ]
    }
   ],
   "source": [
    "print(s.replace('o', 'i'))"
   ]
  },
  {
   "cell_type": "code",
   "execution_count": 43,
   "metadata": {},
   "outputs": [
    {
     "data": {
      "text/plain": [
       "True"
      ]
     },
     "execution_count": 43,
     "metadata": {},
     "output_type": "execute_result"
    }
   ],
   "source": [
    "\"orld\" in s"
   ]
  },
  {
   "cell_type": "code",
   "execution_count": 51,
   "metadata": {},
   "outputs": [
    {
     "data": {
      "text/plain": [
       "5"
      ]
     },
     "execution_count": 51,
     "metadata": {},
     "output_type": "execute_result"
    }
   ],
   "source": [
    "s.index('o')"
   ]
  },
  {
   "cell_type": "code",
   "execution_count": 48,
   "metadata": {},
   "outputs": [
    {
     "data": {
      "text/plain": [
       "True"
      ]
     },
     "execution_count": 48,
     "metadata": {},
     "output_type": "execute_result"
    }
   ],
   "source": [
    "s.startswith(' Hello')"
   ]
  },
  {
   "cell_type": "code",
   "execution_count": 53,
   "metadata": {},
   "outputs": [
    {
     "data": {
      "text/plain": [
       "200"
      ]
     },
     "execution_count": 53,
     "metadata": {},
     "output_type": "execute_result"
    }
   ],
   "source": [
    "max(200,65,75)"
   ]
  },
  {
   "cell_type": "code",
   "execution_count": 72,
   "metadata": {},
   "outputs": [],
   "source": [
    "import requests"
   ]
  },
  {
   "cell_type": "markdown",
   "metadata": {},
   "source": [
    "Requests est un module python permettant d'utiliser le protocole http de façon ultra simple!\n",
    "Je l'ai découvert en voulant récupérer des données d'une page web au boulot à travers un proxy."
   ]
  },
  {
   "cell_type": "code",
   "execution_count": 75,
   "metadata": {},
   "outputs": [],
   "source": [
    "from bs4 import BeautifulSoup"
   ]
  },
  {
   "cell_type": "markdown",
   "metadata": {},
   "source": [
    "Pour faire du traitement HTML, voir site ci-dessous pour les détails d'utilisation : \n",
    "- https://www.crummy.com/software/BeautifulSoup/bs4/doc/"
   ]
  },
  {
   "cell_type": "markdown",
   "metadata": {},
   "source": [
    "Here's a line for us to start with.\n",
    "\n",
    "This line is separated from the one above by two newlines, so it will be a *separate paragraph*.\n",
    "\n",
    "This line is also a separate paragraph, but...  \n",
    "This line is only separated by a single newline, so it's a separate"
   ]
  },
  {
   "cell_type": "code",
   "execution_count": null,
   "metadata": {},
   "outputs": [],
   "source": []
  }
 ],
 "metadata": {
  "kernelspec": {
   "display_name": "Python 3",
   "language": "python",
   "name": "python3"
  },
  "language_info": {
   "codemirror_mode": {
    "name": "ipython",
    "version": 3
   },
   "file_extension": ".py",
   "mimetype": "text/x-python",
   "name": "python",
   "nbconvert_exporter": "python",
   "pygments_lexer": "ipython3",
   "version": "3.7.3"
  }
 },
 "nbformat": 4,
 "nbformat_minor": 2
}
